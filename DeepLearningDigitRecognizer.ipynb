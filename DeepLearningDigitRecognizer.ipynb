{
  "nbformat": 4,
  "nbformat_minor": 0,
  "metadata": {
    "colab": {
      "name": "DeepLearningDigitRecognizer.ipynb",
      "provenance": [],
      "collapsed_sections": [],
      "toc_visible": true,
      "authorship_tag": "ABX9TyPO+ZcZmwJeBVw38XXFGBJi",
      "include_colab_link": true
    },
    "kernelspec": {
      "name": "python3",
      "display_name": "Python 3"
    },
    "language_info": {
      "name": "python"
    },
    "accelerator": "GPU"
  },
  "cells": [
    {
      "cell_type": "markdown",
      "metadata": {
        "id": "view-in-github",
        "colab_type": "text"
      },
      "source": [
        "<a href=\"https://colab.research.google.com/github/katiegaertner/Digit-Recognizer/blob/main/DeepLearningDigitRecognizer.ipynb\" target=\"_parent\"><img src=\"https://colab.research.google.com/assets/colab-badge.svg\" alt=\"Open In Colab\"/></a>"
      ]
    },
    {
      "cell_type": "code",
      "execution_count": 152,
      "metadata": {
        "id": "8Wu_bh5f9w99"
      },
      "outputs": [],
      "source": [
        "#import packages\n",
        "import numpy as np\n",
        "import pandas as pd\n",
        "import seaborn as sns\n",
        "import matplotlib.pyplot as plt\n",
        "import datetime\n",
        "from datetime import datetime\n",
        "from sklearn.model_selection import GridSearchCV\n",
        "from sklearn.model_selection import RandomizedSearchCV\n",
        "from sklearn import metrics\n",
        "import datetime\n",
        "from datetime import datetime"
      ]
    },
    {
      "cell_type": "code",
      "source": [
        "#pip install tensorflow"
      ],
      "metadata": {
        "id": "ksi3uV60CNDV"
      },
      "execution_count": 153,
      "outputs": []
    },
    {
      "cell_type": "code",
      "source": [
        "#use GPU\n",
        "%tensorflow_version 2.x\n",
        "import tensorflow as tf\n",
        "device_name = tf.test.gpu_device_name()\n",
        "if device_name != '/device:GPU:0':\n",
        "  raise SystemError('GPU device not found')\n",
        "print('Found GPU at: {}'.format(device_name))"
      ],
      "metadata": {
        "colab": {
          "base_uri": "https://localhost:8080/"
        },
        "id": "dFxs_Fvq-t3F",
        "outputId": "4fafcc7d-c3d6-4ce3-d096-6ec976c7526a"
      },
      "execution_count": 154,
      "outputs": [
        {
          "output_type": "stream",
          "name": "stdout",
          "text": [
            "Found GPU at: /device:GPU:0\n"
          ]
        }
      ]
    },
    {
      "cell_type": "markdown",
      "source": [
        "# Load and Prepare MNIST Data"
      ],
      "metadata": {
        "id": "p7r0cTSmMwmh"
      }
    },
    {
      "cell_type": "code",
      "source": [
        "!wget https://github.com/katiegaertner/Digit-Recognizer/archive/refs/heads/main.zip"
      ],
      "metadata": {
        "colab": {
          "base_uri": "https://localhost:8080/"
        },
        "id": "QJ2btHY9-ADp",
        "outputId": "e0c5182b-bcc4-4000-c16b-d2d32370bf97"
      },
      "execution_count": 155,
      "outputs": [
        {
          "output_type": "stream",
          "name": "stdout",
          "text": [
            "--2022-02-17 16:57:27--  https://github.com/katiegaertner/Digit-Recognizer/archive/refs/heads/main.zip\n",
            "Resolving github.com (github.com)... 52.192.72.89\n",
            "Connecting to github.com (github.com)|52.192.72.89|:443... connected.\n",
            "HTTP request sent, awaiting response... 302 Found\n",
            "Location: https://codeload.github.com/katiegaertner/Digit-Recognizer/zip/refs/heads/main [following]\n",
            "--2022-02-17 16:57:27--  https://codeload.github.com/katiegaertner/Digit-Recognizer/zip/refs/heads/main\n",
            "Resolving codeload.github.com (codeload.github.com)... 52.193.111.178\n",
            "Connecting to codeload.github.com (codeload.github.com)|52.193.111.178|:443... connected.\n",
            "HTTP request sent, awaiting response... 200 OK\n",
            "Length: unspecified [application/zip]\n",
            "Saving to: ‘main.zip.2’\n",
            "\n",
            "main.zip.2              [     <=>            ]  15.47M  12.6MB/s    in 1.2s    \n",
            "\n",
            "2022-02-17 16:57:29 (12.6 MB/s) - ‘main.zip.2’ saved [16227264]\n",
            "\n"
          ]
        }
      ]
    },
    {
      "cell_type": "code",
      "source": [
        "!unzip \"/content/main.zip\" -d \"/content/output_folder/\""
      ],
      "metadata": {
        "colab": {
          "base_uri": "https://localhost:8080/"
        },
        "id": "v5kXN60u-E92",
        "outputId": "7da8b051-64ed-4874-e449-d3d61f5b26db"
      },
      "execution_count": 156,
      "outputs": [
        {
          "output_type": "stream",
          "name": "stdout",
          "text": [
            "Archive:  /content/main.zip\n",
            "2d365c3113717cf068d5d5943fd611c746ae9921\n",
            "replace /content/output_folder/Digit-Recognizer-main/DigitRecognizerFinal.ipynb? [y]es, [n]o, [A]ll, [N]one, [r]ename: y\n",
            "  inflating: /content/output_folder/Digit-Recognizer-main/DigitRecognizerFinal.ipynb  \n",
            "replace /content/output_folder/Digit-Recognizer-main/Screen Shot 2022-02-13 at 10.20.27 PM.png? [y]es, [n]o, [A]ll, [N]one, [r]ename: y\n",
            "  inflating: /content/output_folder/Digit-Recognizer-main/Screen Shot 2022-02-13 at 10.20.27 PM.png  \n",
            "replace /content/output_folder/Digit-Recognizer-main/test.csv.zip? [y]es, [n]o, [A]ll, [N]one, [r]ename: y\n",
            " extracting: /content/output_folder/Digit-Recognizer-main/test.csv.zip  \n",
            "replace /content/output_folder/Digit-Recognizer-main/train.csv.zip? [y]es, [n]o, [A]ll, [N]one, [r]ename: y\n",
            " extracting: /content/output_folder/Digit-Recognizer-main/train.csv.zip  \n"
          ]
        }
      ]
    },
    {
      "cell_type": "code",
      "source": [
        "!unzip \"/content/output_folder/Digit-Recognizer-main/test.csv.zip\" -d \"/content/output_folder/Digit-Recognizer-main/csvs\""
      ],
      "metadata": {
        "colab": {
          "base_uri": "https://localhost:8080/"
        },
        "id": "8Vv99Dnk-H89",
        "outputId": "e070b21f-0601-4b7d-dccb-7aeec5b1dc0a"
      },
      "execution_count": 157,
      "outputs": [
        {
          "output_type": "stream",
          "name": "stdout",
          "text": [
            "Archive:  /content/output_folder/Digit-Recognizer-main/test.csv.zip\n",
            "replace /content/output_folder/Digit-Recognizer-main/csvs/test.csv? [y]es, [n]o, [A]ll, [N]one, [r]ename: y\n",
            "  inflating: /content/output_folder/Digit-Recognizer-main/csvs/test.csv  \n"
          ]
        }
      ]
    },
    {
      "cell_type": "code",
      "source": [
        "!unzip \"/content/output_folder/Digit-Recognizer-main/train.csv.zip\" -d \"/content/output_folder/Digit-Recognizer-main/csvs\""
      ],
      "metadata": {
        "colab": {
          "base_uri": "https://localhost:8080/"
        },
        "id": "ZzuXtf5M-KFj",
        "outputId": "6354ffd0-8856-48ef-d33a-3e090a782496"
      },
      "execution_count": 158,
      "outputs": [
        {
          "output_type": "stream",
          "name": "stdout",
          "text": [
            "Archive:  /content/output_folder/Digit-Recognizer-main/train.csv.zip\n",
            "replace /content/output_folder/Digit-Recognizer-main/csvs/train.csv? [y]es, [n]o, [A]ll, [N]one, [r]ename: y\n",
            "  inflating: /content/output_folder/Digit-Recognizer-main/csvs/train.csv  \n"
          ]
        }
      ]
    },
    {
      "cell_type": "code",
      "source": [
        "test = pd.read_csv('/content/output_folder/Digit-Recognizer-main/test.csv.zip')\n",
        "xtest = test"
      ],
      "metadata": {
        "id": "g-8MUm-N-NSr"
      },
      "execution_count": 171,
      "outputs": []
    },
    {
      "cell_type": "code",
      "source": [
        "train = pd.read_csv('/content/output_folder/Digit-Recognizer-main/train.csv.zip')\n",
        "ytrain = train['label']\n",
        "xtrain = train.drop(['label'], axis=1)"
      ],
      "metadata": {
        "id": "H2DmZ1uD-QGI"
      },
      "execution_count": 172,
      "outputs": []
    },
    {
      "cell_type": "code",
      "source": [
        "#x_train = xtrain\n",
        "#y_train = ytrain\n",
        "\n",
        "#Normalize Data\n",
        "x_train = xtrain/255\n",
        "x_test = xtest/255"
      ],
      "metadata": {
        "id": "KBU7B9R4oSRW"
      },
      "execution_count": 182,
      "outputs": []
    },
    {
      "cell_type": "code",
      "source": [
        "#from sklearn.model_selection import train_test_split\n",
        "#x_train, x_validate, y_train, y_validate = train_test_split(xtrain, ytrain, test_size = 0.15)"
      ],
      "metadata": {
        "id": "ASOKaq3pTfjs"
      },
      "execution_count": 183,
      "outputs": []
    },
    {
      "cell_type": "code",
      "source": [
        "print('x_train shape:', x_train.shape)\n",
        "print(x_train.shape[0], 'train samples')\n",
        "#print('x_validate shape:', x_validate.shape)\n",
        "#print(x_validate.shape[0], 'validation samples')\n",
        "print(x_test.shape[0], 'test samples')"
      ],
      "metadata": {
        "colab": {
          "base_uri": "https://localhost:8080/"
        },
        "id": "4qfc5P2_K3kP",
        "outputId": "50e1dd34-c1bc-4205-a2be-9113c9789694"
      },
      "execution_count": 184,
      "outputs": [
        {
          "output_type": "stream",
          "name": "stdout",
          "text": [
            "x_train shape: (42000, 784)\n",
            "42000 train samples\n",
            "28000 test samples\n"
          ]
        }
      ]
    },
    {
      "cell_type": "code",
      "source": [
        "#reshape x for keras\n",
        "X_train = x_train.values.reshape(x_train.shape[0], 28, 28, 1)\n",
        "X_test = x_test.values.reshape(x_test.shape[0], 28, 28, 1)\n",
        "X_validate = x_validate.values.reshape(x_validate.shape[0], 28, 28, 1)"
      ],
      "metadata": {
        "id": "7LoRUsesK3cA"
      },
      "execution_count": 185,
      "outputs": []
    },
    {
      "cell_type": "markdown",
      "source": [
        "# Neural Network Model"
      ],
      "metadata": {
        "id": "OdJcAeym_Dpl"
      }
    },
    {
      "cell_type": "code",
      "source": [
        "import keras\n",
        "from keras.models import Sequential\n",
        "from keras.layers import Dense, Dropout, Flatten, Conv2D, MaxPool2D\n",
        "from keras.preprocessing.image import ImageDataGenerator\n",
        "from keras.callbacks import ReduceLROnPlateau\n",
        "from sklearn.model_selection import train_test_split"
      ],
      "metadata": {
        "id": "3ijjO6kRKycK"
      },
      "execution_count": 186,
      "outputs": []
    },
    {
      "cell_type": "code",
      "source": [
        "#Define the Model\n",
        "model = keras.models.Sequential([\n",
        "  Flatten(input_shape=[28, 28]),\n",
        "  Dense(300, activation=\"relu\"),\n",
        "  Dense(100, activation=\"relu\"),\n",
        "  Dense(10, activation=\"softmax\")\n",
        "])\n"
      ],
      "metadata": {
        "id": "_Jme-O05K27L"
      },
      "execution_count": 187,
      "outputs": []
    },
    {
      "cell_type": "code",
      "source": [
        "#Compile the Model\n",
        "model.compile(loss=\"sparse_categorical_crossentropy\",\n",
        "              optimizer=\"sgd\",\n",
        "              metrics=[\"accuracy\"])"
      ],
      "metadata": {
        "id": "LwKTNn8bPt3-"
      },
      "execution_count": 188,
      "outputs": []
    },
    {
      "cell_type": "code",
      "source": [
        "#Train the Model\n",
        "model_1 = model.fit(x=X_train, y=ytrain, validation_split=0.1, batch_size=10, epochs=30)"
      ],
      "metadata": {
        "id": "q07daytFQa9R",
        "colab": {
          "base_uri": "https://localhost:8080/"
        },
        "outputId": "78fe5b65-dcb0-4e7b-b8ed-52effbcb1fdf"
      },
      "execution_count": 189,
      "outputs": [
        {
          "output_type": "stream",
          "name": "stdout",
          "text": [
            "Epoch 1/30\n",
            "3780/3780 [==============================] - 8s 2ms/step - loss: 0.4418 - accuracy: 0.8790 - val_loss: 0.2562 - val_accuracy: 0.9271\n",
            "Epoch 2/30\n",
            "3780/3780 [==============================] - 8s 2ms/step - loss: 0.2182 - accuracy: 0.9377 - val_loss: 0.1940 - val_accuracy: 0.9424\n",
            "Epoch 3/30\n",
            "3780/3780 [==============================] - 8s 2ms/step - loss: 0.1599 - accuracy: 0.9548 - val_loss: 0.1558 - val_accuracy: 0.9521\n",
            "Epoch 4/30\n",
            "3780/3780 [==============================] - 8s 2ms/step - loss: 0.1262 - accuracy: 0.9635 - val_loss: 0.1380 - val_accuracy: 0.9605\n",
            "Epoch 5/30\n",
            "3780/3780 [==============================] - 8s 2ms/step - loss: 0.1016 - accuracy: 0.9709 - val_loss: 0.1224 - val_accuracy: 0.9624\n",
            "Epoch 6/30\n",
            "3780/3780 [==============================] - 8s 2ms/step - loss: 0.0845 - accuracy: 0.9759 - val_loss: 0.1110 - val_accuracy: 0.9664\n",
            "Epoch 7/30\n",
            "3780/3780 [==============================] - 8s 2ms/step - loss: 0.0714 - accuracy: 0.9799 - val_loss: 0.1056 - val_accuracy: 0.9688\n",
            "Epoch 8/30\n",
            "3780/3780 [==============================] - 8s 2ms/step - loss: 0.0599 - accuracy: 0.9833 - val_loss: 0.1002 - val_accuracy: 0.9688\n",
            "Epoch 9/30\n",
            "3780/3780 [==============================] - 8s 2ms/step - loss: 0.0516 - accuracy: 0.9854 - val_loss: 0.1018 - val_accuracy: 0.9681\n",
            "Epoch 10/30\n",
            "3780/3780 [==============================] - 8s 2ms/step - loss: 0.0445 - accuracy: 0.9880 - val_loss: 0.0974 - val_accuracy: 0.9712\n",
            "Epoch 11/30\n",
            "3780/3780 [==============================] - 8s 2ms/step - loss: 0.0383 - accuracy: 0.9901 - val_loss: 0.0965 - val_accuracy: 0.9693\n",
            "Epoch 12/30\n",
            "3780/3780 [==============================] - 8s 2ms/step - loss: 0.0328 - accuracy: 0.9915 - val_loss: 0.0912 - val_accuracy: 0.9710\n",
            "Epoch 13/30\n",
            "3780/3780 [==============================] - 8s 2ms/step - loss: 0.0278 - accuracy: 0.9933 - val_loss: 0.0912 - val_accuracy: 0.9733\n",
            "Epoch 14/30\n",
            "3780/3780 [==============================] - 8s 2ms/step - loss: 0.0241 - accuracy: 0.9945 - val_loss: 0.0871 - val_accuracy: 0.9731\n",
            "Epoch 15/30\n",
            "3780/3780 [==============================] - 8s 2ms/step - loss: 0.0208 - accuracy: 0.9956 - val_loss: 0.0855 - val_accuracy: 0.9748\n",
            "Epoch 16/30\n",
            "3780/3780 [==============================] - 8s 2ms/step - loss: 0.0178 - accuracy: 0.9966 - val_loss: 0.0859 - val_accuracy: 0.9736\n",
            "Epoch 17/30\n",
            "3780/3780 [==============================] - 8s 2ms/step - loss: 0.0154 - accuracy: 0.9974 - val_loss: 0.0880 - val_accuracy: 0.9748\n",
            "Epoch 18/30\n",
            "3780/3780 [==============================] - 8s 2ms/step - loss: 0.0135 - accuracy: 0.9979 - val_loss: 0.0875 - val_accuracy: 0.9736\n",
            "Epoch 19/30\n",
            "3780/3780 [==============================] - 8s 2ms/step - loss: 0.0112 - accuracy: 0.9986 - val_loss: 0.0854 - val_accuracy: 0.9750\n",
            "Epoch 20/30\n",
            "3780/3780 [==============================] - 8s 2ms/step - loss: 0.0100 - accuracy: 0.9989 - val_loss: 0.0863 - val_accuracy: 0.9755\n",
            "Epoch 21/30\n",
            "3780/3780 [==============================] - 8s 2ms/step - loss: 0.0086 - accuracy: 0.9993 - val_loss: 0.0867 - val_accuracy: 0.9743\n",
            "Epoch 22/30\n",
            "3780/3780 [==============================] - 8s 2ms/step - loss: 0.0078 - accuracy: 0.9994 - val_loss: 0.0901 - val_accuracy: 0.9733\n",
            "Epoch 23/30\n",
            "3780/3780 [==============================] - 8s 2ms/step - loss: 0.0067 - accuracy: 0.9994 - val_loss: 0.0889 - val_accuracy: 0.9743\n",
            "Epoch 24/30\n",
            "3780/3780 [==============================] - 8s 2ms/step - loss: 0.0059 - accuracy: 0.9997 - val_loss: 0.0897 - val_accuracy: 0.9745\n",
            "Epoch 25/30\n",
            "3780/3780 [==============================] - 8s 2ms/step - loss: 0.0052 - accuracy: 0.9998 - val_loss: 0.0910 - val_accuracy: 0.9757\n",
            "Epoch 26/30\n",
            "3780/3780 [==============================] - 8s 2ms/step - loss: 0.0047 - accuracy: 0.9998 - val_loss: 0.0881 - val_accuracy: 0.9764\n",
            "Epoch 27/30\n",
            "3780/3780 [==============================] - 8s 2ms/step - loss: 0.0042 - accuracy: 0.9999 - val_loss: 0.0912 - val_accuracy: 0.9755\n",
            "Epoch 28/30\n",
            "3780/3780 [==============================] - 8s 2ms/step - loss: 0.0038 - accuracy: 1.0000 - val_loss: 0.0907 - val_accuracy: 0.9757\n",
            "Epoch 29/30\n",
            "3780/3780 [==============================] - 8s 2ms/step - loss: 0.0036 - accuracy: 0.9999 - val_loss: 0.0908 - val_accuracy: 0.9760\n",
            "Epoch 30/30\n",
            "3780/3780 [==============================] - 8s 2ms/step - loss: 0.0033 - accuracy: 1.0000 - val_loss: 0.0916 - val_accuracy: 0.9760\n"
          ]
        }
      ]
    },
    {
      "cell_type": "markdown",
      "source": [
        "# Neural Network Layer and Node experiment"
      ],
      "metadata": {
        "id": "4GJBwaBkjBWI"
      }
    },
    {
      "cell_type": "markdown",
      "source": [
        "We will conduct an experiment to evaluate the performance of various neural networks by changing the layers and nodes.\n",
        "Objective: perform a 2x2 crossed design of {3,5} layers and {210,410} nodes"
      ],
      "metadata": {
        "id": "OEo2ynAxjJna"
      }
    },
    {
      "cell_type": "markdown",
      "source": [
        "## Neural Network with 3 layers and 210 nodes"
      ],
      "metadata": {
        "id": "DWV43V9RYS1S"
      }
    },
    {
      "cell_type": "code",
      "source": [
        "experiment = pd.DataFrame(columns = [\"Layers\", \"Nodes\", \"Time\", \"Training Accuracy\", \"Validation Accuracy\"])"
      ],
      "metadata": {
        "id": "RPFVQK__KP_7"
      },
      "execution_count": 190,
      "outputs": []
    },
    {
      "cell_type": "code",
      "source": [
        "#3 layers, 210 nodes\n",
        "layer = 3\n",
        "node = 210\n",
        "\n",
        "#start time\n",
        "start_3_210=datetime.now()\n",
        "\n",
        "#Define the Model\n",
        "model_a = keras.models.Sequential([\n",
        "  Flatten(input_shape=[28, 28]),\n",
        "  Dense(150, activation=\"relu\"),\n",
        "  Dense(50, activation=\"relu\"),\n",
        "  Dense(10, activation=\"softmax\")\n",
        "])\n",
        "\n",
        "#Compile the Model\n",
        "model_a.compile(loss=\"sparse_categorical_crossentropy\",\n",
        "              optimizer=\"sgd\",\n",
        "              metrics=[\"accuracy\"])\n",
        "\n",
        "#run the model\n",
        "model_3_210 = model_a.fit(x=X_train, y=ytrain, validation_split=0.1, batch_size=10, epochs=10)\n",
        "\n",
        "#end time\n",
        "end_3_210=datetime.now()\n",
        "#print total run time\n",
        "totalrun = end_3_210 - start_3_210\n",
        "\n",
        "train_acc = model_3_210.history['accuracy'][-1]\n",
        "valid_acc = model_3_210.history['val_accuracy'][-1]\n",
        "\n",
        "experiment.loc[len(experiment.index)] = [layer, node, totalrun, train_acc, valid_acc]"
      ],
      "metadata": {
        "colab": {
          "base_uri": "https://localhost:8080/"
        },
        "id": "G8U3awQqjArE",
        "outputId": "fb589e90-fcc6-4dbc-b7e8-f6b83d518ae9"
      },
      "execution_count": 191,
      "outputs": [
        {
          "output_type": "stream",
          "name": "stdout",
          "text": [
            "Epoch 1/10\n",
            "3780/3780 [==============================] - 9s 2ms/step - loss: 0.4706 - accuracy: 0.8686 - val_loss: 0.2588 - val_accuracy: 0.9236\n",
            "Epoch 2/10\n",
            "3780/3780 [==============================] - 8s 2ms/step - loss: 0.2231 - accuracy: 0.9343 - val_loss: 0.2150 - val_accuracy: 0.9388\n",
            "Epoch 3/10\n",
            "3780/3780 [==============================] - 8s 2ms/step - loss: 0.1698 - accuracy: 0.9503 - val_loss: 0.1558 - val_accuracy: 0.9545\n",
            "Epoch 4/10\n",
            "3780/3780 [==============================] - 8s 2ms/step - loss: 0.1365 - accuracy: 0.9603 - val_loss: 0.1462 - val_accuracy: 0.9567\n",
            "Epoch 5/10\n",
            "3780/3780 [==============================] - 8s 2ms/step - loss: 0.1127 - accuracy: 0.9676 - val_loss: 0.1332 - val_accuracy: 0.9588\n",
            "Epoch 6/10\n",
            "3780/3780 [==============================] - 8s 2ms/step - loss: 0.0959 - accuracy: 0.9723 - val_loss: 0.1146 - val_accuracy: 0.9657\n",
            "Epoch 7/10\n",
            "3780/3780 [==============================] - 8s 2ms/step - loss: 0.0826 - accuracy: 0.9763 - val_loss: 0.1163 - val_accuracy: 0.9640\n",
            "Epoch 8/10\n",
            "3780/3780 [==============================] - 8s 2ms/step - loss: 0.0708 - accuracy: 0.9793 - val_loss: 0.1027 - val_accuracy: 0.9681\n",
            "Epoch 9/10\n",
            "3780/3780 [==============================] - 8s 2ms/step - loss: 0.0611 - accuracy: 0.9819 - val_loss: 0.1025 - val_accuracy: 0.9688\n",
            "Epoch 10/10\n",
            "3780/3780 [==============================] - 8s 2ms/step - loss: 0.0544 - accuracy: 0.9845 - val_loss: 0.0990 - val_accuracy: 0.9721\n"
          ]
        }
      ]
    },
    {
      "cell_type": "code",
      "source": [
        "#Confusion Matrix\n",
        "from sklearn.metrics import confusion_matrix\n",
        "from sklearn.metrics import ConfusionMatrixDisplay\n",
        "\n",
        "#validation prediction:\n",
        "y_v_predict = model_a.predict(X_validate)\n",
        "y_v_predict_classes = np.argmax(y_v_predict, axis = 1) \n",
        "labels = [0, 1, 2, 3, 4, 5, 6, 7, 8, 9]\n",
        "\n",
        "cm = confusion_matrix(y_validate, y_v_predict_classes)\n",
        "disp = ConfusionMatrixDisplay(confusion_matrix=cm, display_labels=labels)\n",
        "\n",
        "disp.plot(cmap=plt.cm.Blues)\n",
        "plt.show()"
      ],
      "metadata": {
        "colab": {
          "base_uri": "https://localhost:8080/",
          "height": 283
        },
        "id": "rJA5HkRbRGpO",
        "outputId": "8a23e21e-b843-431e-a616-90f76c5fdf55"
      },
      "execution_count": 192,
      "outputs": [
        {
          "output_type": "display_data",
          "data": {
            "image/png": "[encoded data removed]",
            "text/plain": [
              "<Figure size 432x288 with 2 Axes>"
            ]
          },
          "metadata": {
            "needs_background": "light"
          }
        }
      ]
    },
    {
      "cell_type": "code",
      "source": [
        "#Prediction\n",
        "Y_pred = model_a.predict(X_test)\n",
        "Y_pred_classes = np.argmax(Y_pred, axis = 1) \n",
        "#output and format best model predictions for Kaggle\n",
        "\n",
        "predict_3_210 = pd.DataFrame(Y_pred_classes)\n",
        "predict_3_210.index.rename('ImageID', inplace=True)\n",
        "predict_3_210.index += 1\n",
        "predict_3_210.columns =['Label']"
      ],
      "metadata": {
        "id": "HfdGHpT_Qaxd"
      },
      "execution_count": 193,
      "outputs": []
    },
    {
      "cell_type": "code",
      "source": [
        "from google.colab import drive\n",
        "drive.mount('/drive')\n",
        "predict_3_210.to_csv('/drive/My Drive/GaertnerNN_3_210_MNISTprediction.csv')"
      ],
      "metadata": {
        "colab": {
          "base_uri": "https://localhost:8080/"
        },
        "id": "VUT1kXoyRf3l",
        "outputId": "dea9d3a0-90b6-42a0-9e47-ff9f52e882f2"
      },
      "execution_count": 194,
      "outputs": [
        {
          "output_type": "stream",
          "name": "stdout",
          "text": [
            "Drive already mounted at /drive; to attempt to forcibly remount, call drive.mount(\"/drive\", force_remount=True).\n"
          ]
        }
      ]
    },
    {
      "cell_type": "markdown",
      "source": [
        "## Neural Network with 3 layers and 410 nodes"
      ],
      "metadata": {
        "id": "H1vmXYlbYZyI"
      }
    },
    {
      "cell_type": "code",
      "source": [
        "#3 layers, 410 nodes\n",
        "layer = 3\n",
        "node = 410\n",
        "\n",
        "#start time\n",
        "start_3_410=datetime.now()\n",
        "\n",
        "#Define the Model\n",
        "model_b = keras.models.Sequential([\n",
        "  Flatten(input_shape=[28, 28]),\n",
        "  Dense(300, activation=\"relu\"),\n",
        "  Dense(100, activation=\"relu\"),\n",
        "  Dense(10, activation=\"softmax\")\n",
        "])\n",
        "\n",
        "#Compile the Model\n",
        "model_b.compile(loss=\"sparse_categorical_crossentropy\",\n",
        "              optimizer=\"sgd\",\n",
        "              metrics=[\"accuracy\"])\n",
        "\n",
        "model_3_410 = model_b.fit(x=X_train, y=ytrain, validation_split=0.1, batch_size=10, epochs=10)\n",
        "\n",
        "#end time\n",
        "end_3_410=datetime.now()\n",
        "#print total run time\n",
        "totalrun = end_3_410 - start_3_410\n",
        "\n",
        "train_acc = model_3_410.history['accuracy'][-1]\n",
        "valid_acc = model_3_410.history['val_accuracy'][-1]\n",
        "\n",
        "experiment.loc[len(experiment.index)] = [layer, node, totalrun, train_acc, valid_acc]"
      ],
      "metadata": {
        "colab": {
          "base_uri": "https://localhost:8080/"
        },
        "id": "m13nahw7GqDu",
        "outputId": "b05c33bd-4084-42b8-a1a9-b999a5a956e5"
      },
      "execution_count": 195,
      "outputs": [
        {
          "output_type": "stream",
          "name": "stdout",
          "text": [
            "Epoch 1/10\n",
            "3780/3780 [==============================] - 9s 2ms/step - loss: 0.4364 - accuracy: 0.8801 - val_loss: 0.2510 - val_accuracy: 0.9310\n",
            "Epoch 2/10\n",
            "3780/3780 [==============================] - 8s 2ms/step - loss: 0.2140 - accuracy: 0.9377 - val_loss: 0.1929 - val_accuracy: 0.9426\n",
            "Epoch 3/10\n",
            "3780/3780 [==============================] - 8s 2ms/step - loss: 0.1596 - accuracy: 0.9543 - val_loss: 0.1578 - val_accuracy: 0.9536\n",
            "Epoch 4/10\n",
            "3780/3780 [==============================] - 8s 2ms/step - loss: 0.1255 - accuracy: 0.9634 - val_loss: 0.1387 - val_accuracy: 0.9588\n",
            "Epoch 5/10\n",
            "3780/3780 [==============================] - 8s 2ms/step - loss: 0.1022 - accuracy: 0.9710 - val_loss: 0.1237 - val_accuracy: 0.9636\n",
            "Epoch 6/10\n",
            "3780/3780 [==============================] - 8s 2ms/step - loss: 0.0859 - accuracy: 0.9758 - val_loss: 0.1174 - val_accuracy: 0.9664\n",
            "Epoch 7/10\n",
            "3780/3780 [==============================] - 9s 2ms/step - loss: 0.0722 - accuracy: 0.9798 - val_loss: 0.1107 - val_accuracy: 0.9669\n",
            "Epoch 8/10\n",
            "3780/3780 [==============================] - 8s 2ms/step - loss: 0.0620 - accuracy: 0.9822 - val_loss: 0.1023 - val_accuracy: 0.9664\n",
            "Epoch 9/10\n",
            "3780/3780 [==============================] - 8s 2ms/step - loss: 0.0525 - accuracy: 0.9856 - val_loss: 0.0982 - val_accuracy: 0.9690\n",
            "Epoch 10/10\n",
            "3780/3780 [==============================] - 8s 2ms/step - loss: 0.0453 - accuracy: 0.9884 - val_loss: 0.0904 - val_accuracy: 0.9702\n"
          ]
        }
      ]
    },
    {
      "cell_type": "code",
      "source": [
        "#Confusion Matrix\n",
        "\n",
        "#validation prediction:\n",
        "y_v_predict = model_b.predict(X_validate)\n",
        "y_v_predict_classes = np.argmax(y_v_predict, axis = 1) \n",
        "labels = [0, 1, 2, 3, 4, 5, 6, 7, 8, 9]\n",
        "\n",
        "cm = confusion_matrix(y_validate, y_v_predict_classes)\n",
        "disp = ConfusionMatrixDisplay(confusion_matrix=cm, display_labels=labels)\n",
        "\n",
        "disp.plot(cmap=plt.cm.Blues)\n",
        "plt.show()"
      ],
      "metadata": {
        "colab": {
          "base_uri": "https://localhost:8080/",
          "height": 282
        },
        "id": "UKBa9-XJYPc4",
        "outputId": "18b68f2b-ece0-46ad-a390-a08d49a0037f"
      },
      "execution_count": 196,
      "outputs": [
        {
          "output_type": "display_data",
          "data": {
            "image/png": "[encoded data removed]",
            "text/plain": [
              "<Figure size 432x288 with 2 Axes>"
            ]
          },
          "metadata": {
            "needs_background": "light"
          }
        }
      ]
    },
    {
      "cell_type": "code",
      "source": [
        "#Prediction\n",
        "Y_pred = model_b.predict(X_test)\n",
        "Y_pred_classes = np.argmax(Y_pred, axis = 1) \n",
        "#output and format best model predictions for Kaggle\n",
        "\n",
        "predict_3_410 = pd.DataFrame(Y_pred_classes)\n",
        "predict_3_410.index.rename('ImageID', inplace=True)\n",
        "predict_3_410.index += 1\n",
        "predict_3_410.columns =['Label']"
      ],
      "metadata": {
        "id": "mAt3BhN4YlvF"
      },
      "execution_count": 197,
      "outputs": []
    },
    {
      "cell_type": "code",
      "source": [
        "predict_3_410.to_csv('/drive/My Drive/GaertnerNN_3_410_MNISTprediction.csv')"
      ],
      "metadata": {
        "id": "tfZo8DXgY7R-"
      },
      "execution_count": 198,
      "outputs": []
    },
    {
      "cell_type": "markdown",
      "source": [
        "## Neural Network with 5 layers and 210 nodes"
      ],
      "metadata": {
        "id": "MYJNwpIoY-Rd"
      }
    },
    {
      "cell_type": "code",
      "source": [
        "#5 layers, 210\n",
        "layer = 5\n",
        "node = 210\n",
        "\n",
        "#start time\n",
        "start_5_210=datetime.now()\n",
        "\n",
        "#Define the Model\n",
        "model_c = keras.models.Sequential([\n",
        "  Flatten(input_shape=[28, 28]),\n",
        "  Dense(75, activation=\"relu\"),\n",
        "  Dense(50, activation=\"relu\"),\n",
        "  Dense(45, activation=\"relu\"),\n",
        "  Dense(30, activation=\"relu\"),\n",
        "  Dense(10, activation=\"softmax\")\n",
        "])\n",
        "\n",
        "#Compile the Model\n",
        "model_c.compile(loss=\"sparse_categorical_crossentropy\",\n",
        "              optimizer=\"sgd\",\n",
        "              metrics=[\"accuracy\"])\n",
        "\n",
        "model_5_210 = model_c.fit(x=X_train, y=ytrain, validation_split=0.1, batch_size=10, epochs=10)\n",
        "\n",
        "#end time\n",
        "end_5_210=datetime.now()\n",
        "#print total run time\n",
        "totalrun = end_5_210 - start_5_210\n",
        "\n",
        "train_acc = model_5_210.history['accuracy'][-1]\n",
        "valid_acc = model_5_210.history['val_accuracy'][-1]\n",
        "\n",
        "experiment.loc[len(experiment.index)] = [layer, node, totalrun, train_acc, valid_acc]"
      ],
      "metadata": {
        "colab": {
          "base_uri": "https://localhost:8080/"
        },
        "id": "8QSLjTlnG5eb",
        "outputId": "f14459e6-3fb2-4c81-a5bf-e5efcefc993b"
      },
      "execution_count": 199,
      "outputs": [
        {
          "output_type": "stream",
          "name": "stdout",
          "text": [
            "Epoch 1/10\n",
            "3780/3780 [==============================] - 9s 2ms/step - loss: 0.5737 - accuracy: 0.8231 - val_loss: 0.2667 - val_accuracy: 0.9231\n",
            "Epoch 2/10\n",
            "3780/3780 [==============================] - 9s 2ms/step - loss: 0.2122 - accuracy: 0.9354 - val_loss: 0.1911 - val_accuracy: 0.9395\n",
            "Epoch 3/10\n",
            "3780/3780 [==============================] - 9s 2ms/step - loss: 0.1482 - accuracy: 0.9546 - val_loss: 0.1628 - val_accuracy: 0.9507\n",
            "Epoch 4/10\n",
            "3780/3780 [==============================] - 9s 2ms/step - loss: 0.1176 - accuracy: 0.9636 - val_loss: 0.1361 - val_accuracy: 0.9581\n",
            "Epoch 5/10\n",
            "3780/3780 [==============================] - 9s 2ms/step - loss: 0.0969 - accuracy: 0.9703 - val_loss: 0.1244 - val_accuracy: 0.9598\n",
            "Epoch 6/10\n",
            "3780/3780 [==============================] - 9s 2ms/step - loss: 0.0826 - accuracy: 0.9748 - val_loss: 0.1209 - val_accuracy: 0.9624\n",
            "Epoch 7/10\n",
            "3780/3780 [==============================] - 9s 2ms/step - loss: 0.0698 - accuracy: 0.9777 - val_loss: 0.1487 - val_accuracy: 0.9538\n",
            "Epoch 8/10\n",
            "3780/3780 [==============================] - 9s 2ms/step - loss: 0.0611 - accuracy: 0.9804 - val_loss: 0.1167 - val_accuracy: 0.9660\n",
            "Epoch 9/10\n",
            "3780/3780 [==============================] - 9s 2ms/step - loss: 0.0536 - accuracy: 0.9833 - val_loss: 0.1239 - val_accuracy: 0.9624\n",
            "Epoch 10/10\n",
            "3780/3780 [==============================] - 9s 2ms/step - loss: 0.0467 - accuracy: 0.9857 - val_loss: 0.1266 - val_accuracy: 0.9645\n"
          ]
        }
      ]
    },
    {
      "cell_type": "code",
      "source": [
        "#Confusion Matrix\n",
        "\n",
        "#validation prediction:\n",
        "y_v_predict = model_c.predict(X_validate)\n",
        "y_v_predict_classes = np.argmax(y_v_predict, axis = 1) \n",
        "labels = [0, 1, 2, 3, 4, 5, 6, 7, 8, 9]\n",
        "\n",
        "cm = confusion_matrix(y_validate, y_v_predict_classes)\n",
        "disp = ConfusionMatrixDisplay(confusion_matrix=cm, display_labels=labels)\n",
        "\n",
        "disp.plot(cmap=plt.cm.Blues)\n",
        "plt.show()"
      ],
      "metadata": {
        "colab": {
          "base_uri": "https://localhost:8080/",
          "height": 278
        },
        "id": "_2W5NvC-ZHLK",
        "outputId": "f0224f58-fe4a-4af6-fd06-e2c1d4519df4"
      },
      "execution_count": 200,
      "outputs": [
        {
          "output_type": "display_data",
          "data": {
            "image/png": "[encoded data removed]",
            "text/plain": [
              "<Figure size 432x288 with 2 Axes>"
            ]
          },
          "metadata": {
            "needs_background": "light"
          }
        }
      ]
    },
    {
      "cell_type": "code",
      "source": [
        "#Prediction\n",
        "Y_pred = model_c.predict(X_test)\n",
        "Y_pred_classes = np.argmax(Y_pred, axis = 1) \n",
        "#output and format best model predictions for Kaggle\n",
        "\n",
        "predict_5_210 = pd.DataFrame(Y_pred_classes)\n",
        "predict_5_210.index.rename('ImageID', inplace=True)\n",
        "predict_5_210.index += 1\n",
        "predict_5_210.columns =['Label']"
      ],
      "metadata": {
        "id": "kAQ-pskmZKgg"
      },
      "execution_count": 201,
      "outputs": []
    },
    {
      "cell_type": "code",
      "source": [
        "predict_5_210.to_csv('/drive/My Drive/GaertnerNN_5_210_MNISTprediction.csv')"
      ],
      "metadata": {
        "id": "pufCMyvFZWSZ"
      },
      "execution_count": 202,
      "outputs": []
    },
    {
      "cell_type": "markdown",
      "source": [
        "## Neural Network with 5 layers and 410 nodes"
      ],
      "metadata": {
        "id": "JHfWQRKuZZz1"
      }
    },
    {
      "cell_type": "code",
      "source": [
        "#5 layers, 410\n",
        "layer = 5\n",
        "node = 410\n",
        "\n",
        "#start time\n",
        "start_5_410=datetime.now()\n",
        "\n",
        "#Define the Model\n",
        "model_d = keras.models.Sequential([\n",
        "  Flatten(input_shape=[28, 28]),\n",
        "  Dense(150, activation=\"relu\"),\n",
        "  Dense(100, activation=\"relu\"),\n",
        "  Dense(90, activation=\"relu\"),\n",
        "  Dense(60, activation=\"relu\"),\n",
        "  Dense(10, activation=\"softmax\")\n",
        "])\n",
        "\n",
        "#Compile the Model\n",
        "model_d.compile(loss=\"sparse_categorical_crossentropy\",\n",
        "              optimizer=\"sgd\",\n",
        "              metrics=[\"accuracy\"])\n",
        "\n",
        "#end time\n",
        "end_5_410=datetime.now()\n",
        "#print total run time\n",
        "totalrun = end_5_410 - start_5_410\n",
        "\n",
        "model_5_410 = model_d.fit(x=X_train, y=ytrain, validation_split=0.1, batch_size=10, epochs=10)\n",
        "\n",
        "train_acc = model_5_410.history['accuracy'][-1]\n",
        "valid_acc = model_5_410.history['val_accuracy'][-1]\n",
        "\n",
        "experiment.loc[len(experiment.index)] = [layer, node, totalrun, train_acc, valid_acc]"
      ],
      "metadata": {
        "colab": {
          "base_uri": "https://localhost:8080/"
        },
        "id": "mcDRiTgEHhO4",
        "outputId": "69997cb3-572f-4856-f7d8-e49132b6ccd9"
      },
      "execution_count": 203,
      "outputs": [
        {
          "output_type": "stream",
          "name": "stdout",
          "text": [
            "Epoch 1/10\n",
            "3780/3780 [==============================] - 9s 2ms/step - loss: 0.5047 - accuracy: 0.8523 - val_loss: 0.2428 - val_accuracy: 0.9293\n",
            "Epoch 2/10\n",
            "3780/3780 [==============================] - 9s 2ms/step - loss: 0.2005 - accuracy: 0.9392 - val_loss: 0.1805 - val_accuracy: 0.9450\n",
            "Epoch 3/10\n",
            "3780/3780 [==============================] - 9s 2ms/step - loss: 0.1393 - accuracy: 0.9579 - val_loss: 0.1410 - val_accuracy: 0.9581\n",
            "Epoch 4/10\n",
            "3780/3780 [==============================] - 9s 2ms/step - loss: 0.1086 - accuracy: 0.9667 - val_loss: 0.1184 - val_accuracy: 0.9650\n",
            "Epoch 5/10\n",
            "3780/3780 [==============================] - 9s 2ms/step - loss: 0.0888 - accuracy: 0.9734 - val_loss: 0.1368 - val_accuracy: 0.9586\n",
            "Epoch 6/10\n",
            "3780/3780 [==============================] - 9s 2ms/step - loss: 0.0702 - accuracy: 0.9785 - val_loss: 0.1054 - val_accuracy: 0.9674\n",
            "Epoch 7/10\n",
            "3780/3780 [==============================] - 9s 2ms/step - loss: 0.0568 - accuracy: 0.9828 - val_loss: 0.1024 - val_accuracy: 0.9667\n",
            "Epoch 8/10\n",
            "3780/3780 [==============================] - 9s 2ms/step - loss: 0.0487 - accuracy: 0.9849 - val_loss: 0.1066 - val_accuracy: 0.9664\n",
            "Epoch 9/10\n",
            "3780/3780 [==============================] - 9s 2ms/step - loss: 0.0395 - accuracy: 0.9876 - val_loss: 0.0865 - val_accuracy: 0.9745\n",
            "Epoch 10/10\n",
            "3780/3780 [==============================] - 9s 2ms/step - loss: 0.0319 - accuracy: 0.9900 - val_loss: 0.0930 - val_accuracy: 0.9695\n"
          ]
        }
      ]
    },
    {
      "cell_type": "code",
      "source": [
        "#Confusion Matrix\n",
        "\n",
        "#validation prediction:\n",
        "y_v_predict = model_d.predict(X_validate)\n",
        "y_v_predict_classes = np.argmax(y_v_predict, axis = 1) \n",
        "labels = [0, 1, 2, 3, 4, 5, 6, 7, 8, 9]\n",
        "\n",
        "cm = confusion_matrix(y_validate, y_v_predict_classes)\n",
        "disp = ConfusionMatrixDisplay(confusion_matrix=cm, display_labels=labels)\n",
        "\n",
        "disp.plot(cmap=plt.cm.Blues)\n",
        "plt.show()"
      ],
      "metadata": {
        "colab": {
          "base_uri": "https://localhost:8080/",
          "height": 282
        },
        "id": "YwIaec34Zg7Z",
        "outputId": "ddbf2e1e-7a42-4a45-94f5-163e29e6f1e8"
      },
      "execution_count": 204,
      "outputs": [
        {
          "output_type": "display_data",
          "data": {
            "image/png": "[encoded data removed]",
            "text/plain": [
              "<Figure size 432x288 with 2 Axes>"
            ]
          },
          "metadata": {
            "needs_background": "light"
          }
        }
      ]
    },
    {
      "cell_type": "code",
      "source": [
        "#Test Prediction\n",
        "Y_pred = model_d.predict(X_test)\n",
        "Y_pred_classes = np.argmax(Y_pred, axis = 1) \n",
        "\n",
        "#output and format best model predictions for Kaggle\n",
        "predict_5_410 = pd.DataFrame(Y_pred_classes)\n",
        "predict_5_410.index.rename('ImageID', inplace=True)\n",
        "predict_5_410.index += 1\n",
        "predict_5_410.columns =['Label']"
      ],
      "metadata": {
        "id": "3VwlOJdCZkkX"
      },
      "execution_count": 205,
      "outputs": []
    },
    {
      "cell_type": "code",
      "source": [
        "predict_5_410.to_csv('/drive/My Drive/GaertnerNN_5_410_MNISTprediction.csv')"
      ],
      "metadata": {
        "id": "4TvoLgcIZgqN"
      },
      "execution_count": 206,
      "outputs": []
    },
    {
      "cell_type": "markdown",
      "source": [
        "##Experiment Results"
      ],
      "metadata": {
        "id": "OyTcotKHaFH9"
      }
    },
    {
      "cell_type": "code",
      "source": [
        "experiment"
      ],
      "metadata": {
        "colab": {
          "base_uri": "https://localhost:8080/",
          "height": 174
        },
        "id": "84Ss8LyvLqgh",
        "outputId": "46fd72ab-4c67-42aa-b5ce-993657da5808"
      },
      "execution_count": 207,
      "outputs": [
        {
          "output_type": "execute_result",
          "data": {
            "text/html": [
              "\n",
              "  <div id=\"df-d57676f8-4e95-43bd-876e-eb658057ca7a\">\n",
              "    <div class=\"colab-df-container\">\n",
              "      <div>\n",
              "<style scoped>\n",
              "    .dataframe tbody tr th:only-of-type {\n",
              "        vertical-align: middle;\n",
              "    }\n",
              "\n",
              "    .dataframe tbody tr th {\n",
              "        vertical-align: top;\n",
              "    }\n",
              "\n",
              "    .dataframe thead th {\n",
              "        text-align: right;\n",
              "    }\n",
              "</style>\n",
              "<table border=\"1\" class=\"dataframe\">\n",
              "  <thead>\n",
              "    <tr style=\"text-align: right;\">\n",
              "      <th></th>\n",
              "      <th>Layers</th>\n",
              "      <th>Nodes</th>\n",
              "      <th>Time</th>\n",
              "      <th>Training Accuracy</th>\n",
              "      <th>Validation Accuracy</th>\n",
              "    </tr>\n",
              "  </thead>\n",
              "  <tbody>\n",
              "    <tr>\n",
              "      <th>0</th>\n",
              "      <td>3</td>\n",
              "      <td>210</td>\n",
              "      <td>0 days 00:01:22.486627</td>\n",
              "      <td>0.984497</td>\n",
              "      <td>0.972143</td>\n",
              "    </tr>\n",
              "    <tr>\n",
              "      <th>1</th>\n",
              "      <td>3</td>\n",
              "      <td>410</td>\n",
              "      <td>0 days 00:02:22.346501</td>\n",
              "      <td>0.988439</td>\n",
              "      <td>0.970238</td>\n",
              "    </tr>\n",
              "    <tr>\n",
              "      <th>2</th>\n",
              "      <td>5</td>\n",
              "      <td>210</td>\n",
              "      <td>0 days 00:01:28.249489</td>\n",
              "      <td>0.985688</td>\n",
              "      <td>0.964524</td>\n",
              "    </tr>\n",
              "    <tr>\n",
              "      <th>3</th>\n",
              "      <td>5</td>\n",
              "      <td>410</td>\n",
              "      <td>0 days 00:00:00.048807</td>\n",
              "      <td>0.989974</td>\n",
              "      <td>0.969524</td>\n",
              "    </tr>\n",
              "  </tbody>\n",
              "</table>\n",
              "</div>\n",
              "      <button class=\"colab-df-convert\" onclick=\"convertToInteractive('df-d57676f8-4e95-43bd-876e-eb658057ca7a')\"\n",
              "              title=\"Convert this dataframe to an interactive table.\"\n",
              "              style=\"display:none;\">\n",
              "        \n",
              "  <svg xmlns=\"http://www.w3.org/2000/svg\" height=\"24px\"viewBox=\"0 0 24 24\"\n",
              "       width=\"24px\">\n",
              "    <path d=\"M0 0h24v24H0V0z\" fill=\"none\"/>\n",
              "    <path d=\"M18.56 5.44l.94 2.06.94-2.06 2.06-.94-2.06-.94-.94-2.06-.94 2.06-2.06.94zm-11 1L8.5 8.5l.94-2.06 2.06-.94-2.06-.94L8.5 2.5l-.94 2.06-2.06.94zm10 10l.94 2.06.94-2.06 2.06-.94-2.06-.94-.94-2.06-.94 2.06-2.06.94z\"/><path d=\"M17.41 7.96l-1.37-1.37c-.4-.4-.92-.59-1.43-.59-.52 0-1.04.2-1.43.59L10.3 9.45l-7.72 7.72c-.78.78-.78 2.05 0 2.83L4 21.41c.39.39.9.59 1.41.59.51 0 1.02-.2 1.41-.59l7.78-7.78 2.81-2.81c.8-.78.8-2.07 0-2.86zM5.41 20L4 18.59l7.72-7.72 1.47 1.35L5.41 20z\"/>\n",
              "  </svg>\n",
              "      </button>\n",
              "      \n",
              "  <style>\n",
              "    .colab-df-container {\n",
              "      display:flex;\n",
              "      flex-wrap:wrap;\n",
              "      gap: 12px;\n",
              "    }\n",
              "\n",
              "    .colab-df-convert {\n",
              "      background-color: #E8F0FE;\n",
              "      border: none;\n",
              "      border-radius: 50%;\n",
              "      cursor: pointer;\n",
              "      display: none;\n",
              "      fill: #1967D2;\n",
              "      height: 32px;\n",
              "      padding: 0 0 0 0;\n",
              "      width: 32px;\n",
              "    }\n",
              "\n",
              "    .colab-df-convert:hover {\n",
              "      background-color: #E2EBFA;\n",
              "      box-shadow: 0px 1px 2px rgba(60, 64, 67, 0.3), 0px 1px 3px 1px rgba(60, 64, 67, 0.15);\n",
              "      fill: #174EA6;\n",
              "    }\n",
              "\n",
              "    [theme=dark] .colab-df-convert {\n",
              "      background-color: #3B4455;\n",
              "      fill: #D2E3FC;\n",
              "    }\n",
              "\n",
              "    [theme=dark] .colab-df-convert:hover {\n",
              "      background-color: #434B5C;\n",
              "      box-shadow: 0px 1px 3px 1px rgba(0, 0, 0, 0.15);\n",
              "      filter: drop-shadow(0px 1px 2px rgba(0, 0, 0, 0.3));\n",
              "      fill: #FFFFFF;\n",
              "    }\n",
              "  </style>\n",
              "\n",
              "      <script>\n",
              "        const buttonEl =\n",
              "          document.querySelector('#df-d57676f8-4e95-43bd-876e-eb658057ca7a button.colab-df-convert');\n",
              "        buttonEl.style.display =\n",
              "          google.colab.kernel.accessAllowed ? 'block' : 'none';\n",
              "\n",
              "        async function convertToInteractive(key) {\n",
              "          const element = document.querySelector('#df-d57676f8-4e95-43bd-876e-eb658057ca7a');\n",
              "          const dataTable =\n",
              "            await google.colab.kernel.invokeFunction('convertToInteractive',\n",
              "                                                     [key], {});\n",
              "          if (!dataTable) return;\n",
              "\n",
              "          const docLinkHtml = 'Like what you see? Visit the ' +\n",
              "            '<a target=\"_blank\" href=https://colab.research.google.com/notebooks/data_table.ipynb>data table notebook</a>'\n",
              "            + ' to learn more about interactive tables.';\n",
              "          element.innerHTML = '';\n",
              "          dataTable['output_type'] = 'display_data';\n",
              "          await google.colab.output.renderOutput(dataTable, element);\n",
              "          const docLink = document.createElement('div');\n",
              "          docLink.innerHTML = docLinkHtml;\n",
              "          element.appendChild(docLink);\n",
              "        }\n",
              "      </script>\n",
              "    </div>\n",
              "  </div>\n",
              "  "
            ],
            "text/plain": [
              "  Layers Nodes                   Time  Training Accuracy  Validation Accuracy\n",
              "0      3   210 0 days 00:01:22.486627           0.984497             0.972143\n",
              "1      3   410 0 days 00:02:22.346501           0.988439             0.970238\n",
              "2      5   210 0 days 00:01:28.249489           0.985688             0.964524\n",
              "3      5   410 0 days 00:00:00.048807           0.989974             0.969524"
            ]
          },
          "metadata": {},
          "execution_count": 207
        }
      ]
    }
  ]
}