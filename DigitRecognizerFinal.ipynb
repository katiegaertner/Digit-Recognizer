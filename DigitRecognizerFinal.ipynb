{
  "cells": [
    {
      "cell_type": "markdown",
      "metadata": {
        "id": "view-in-github",
        "colab_type": "text"
      },
      "source": [
        "<a href=\"https://colab.research.google.com/github/katiegaertner/Digit-Recognizer/blob/main/DigitRecognizerFinal.ipynb\" target=\"_parent\"><img src=\"https://colab.research.google.com/assets/colab-badge.svg\" alt=\"Open In Colab\"/></a>"
      ]
    },
    {
      "cell_type": "code",
      "execution_count": 1,
      "metadata": {
        "id": "D5Zz7yr0Y3Ic"
      },
      "outputs": [],
      "source": [
        "#import packages\n",
        "import numpy as np\n",
        "import pandas as pd\n",
        "import seaborn as sns\n",
        "import matplotlib.pyplot as plt\n",
        "import datetime\n",
        "from datetime import datetime\n",
        "from sklearn.model_selection import GridSearchCV\n",
        "from sklearn.model_selection import RandomizedSearchCV\n",
        "from sklearn import metrics\n",
        "from sklearn.metrics import f1_score"
      ]
    },
    {
      "cell_type": "code",
      "execution_count": 2,
      "metadata": {
        "colab": {
          "base_uri": "https://localhost:8080/"
        },
        "id": "QlzlglZqLPTY",
        "outputId": "21bb9243-8481-45ed-f740-290dc324df1d"
      },
      "outputs": [
        {
          "output_type": "stream",
          "name": "stdout",
          "text": [
            "--2022-02-14 01:02:22--  https://github.com/katiegaertner/Digit-Recognizer/archive/refs/heads/main.zip\n",
            "Resolving github.com (github.com)... 140.82.121.3\n",
            "Connecting to github.com (github.com)|140.82.121.3|:443... connected.\n",
            "HTTP request sent, awaiting response... 302 Found\n",
            "Location: https://codeload.github.com/katiegaertner/Digit-Recognizer/zip/refs/heads/main [following]\n",
            "--2022-02-14 01:02:22--  https://codeload.github.com/katiegaertner/Digit-Recognizer/zip/refs/heads/main\n",
            "Resolving codeload.github.com (codeload.github.com)... 140.82.121.9\n",
            "Connecting to codeload.github.com (codeload.github.com)|140.82.121.9|:443... connected.\n",
            "HTTP request sent, awaiting response... 200 OK\n",
            "Length: unspecified [application/zip]\n",
            "Saving to: ‘main.zip’\n",
            "\n",
            "main.zip                [    <=>             ]  15.25M  20.2MB/s    in 0.8s    \n",
            "\n",
            "2022-02-14 01:02:23 (20.2 MB/s) - ‘main.zip’ saved [15992142]\n",
            "\n"
          ]
        }
      ],
      "source": [
        "!wget https://github.com/katiegaertner/Digit-Recognizer/archive/refs/heads/main.zip"
      ]
    },
    {
      "cell_type": "code",
      "execution_count": 3,
      "metadata": {
        "colab": {
          "base_uri": "https://localhost:8080/"
        },
        "id": "1y8-9BT6LRoy",
        "outputId": "d9235b0a-d5f9-43cf-9ad7-d6e64e1cdf33"
      },
      "outputs": [
        {
          "output_type": "stream",
          "name": "stdout",
          "text": [
            "Archive:  /content/main.zip\n",
            "73504bf185e47ba0c5ae32a3b6f8eb30c2e93b57\n",
            "   creating: /content/output_folder/Digit-Recognizer-main/\n",
            " extracting: /content/output_folder/Digit-Recognizer-main/test.csv.zip  \n",
            " extracting: /content/output_folder/Digit-Recognizer-main/train.csv.zip  \n"
          ]
        }
      ],
      "source": [
        "!unzip \"/content/main.zip\" -d \"/content/output_folder/\""
      ]
    },
    {
      "cell_type": "code",
      "execution_count": 4,
      "metadata": {
        "colab": {
          "base_uri": "https://localhost:8080/"
        },
        "id": "cGWKyvG5LVQe",
        "outputId": "19b83ca8-2744-4865-ea61-e1c7529d9618"
      },
      "outputs": [
        {
          "output_type": "stream",
          "name": "stdout",
          "text": [
            "Archive:  /content/output_folder/Digit-Recognizer-main/test.csv.zip\n",
            "  inflating: /content/output_folder/Digit-Recognizer-main/csvs/test.csv  \n"
          ]
        }
      ],
      "source": [
        "!unzip \"/content/output_folder/Digit-Recognizer-main/test.csv.zip\" -d \"/content/output_folder/Digit-Recognizer-main/csvs\""
      ]
    },
    {
      "cell_type": "code",
      "execution_count": 5,
      "metadata": {
        "colab": {
          "base_uri": "https://localhost:8080/"
        },
        "id": "0IT7j_RGLYuP",
        "outputId": "5743ba25-de6d-4c60-f3f2-484fc146ee79"
      },
      "outputs": [
        {
          "output_type": "stream",
          "name": "stdout",
          "text": [
            "Archive:  /content/output_folder/Digit-Recognizer-main/train.csv.zip\n",
            "  inflating: /content/output_folder/Digit-Recognizer-main/csvs/train.csv  \n"
          ]
        }
      ],
      "source": [
        "!unzip \"/content/output_folder/Digit-Recognizer-main/train.csv.zip\" -d \"/content/output_folder/Digit-Recognizer-main/csvs\""
      ]
    },
    {
      "cell_type": "code",
      "execution_count": 6,
      "metadata": {
        "id": "yBINq7n7La7r"
      },
      "outputs": [],
      "source": [
        "test = pd.read_csv('/content/output_folder/Digit-Recognizer-main/test.csv.zip')\n",
        "xtest = test"
      ]
    },
    {
      "cell_type": "code",
      "execution_count": 7,
      "metadata": {
        "id": "ISTGmdAAMCE9"
      },
      "outputs": [],
      "source": [
        "train = pd.read_csv('/content/output_folder/Digit-Recognizer-main/train.csv.zip')\n",
        "ytrain = train['label']\n",
        "xtrain = train.drop(['label'], axis=1)"
      ]
    },
    {
      "cell_type": "code",
      "execution_count": 8,
      "metadata": {
        "colab": {
          "base_uri": "https://localhost:8080/",
          "height": 354
        },
        "id": "ljcWTBlrModP",
        "outputId": "6d33d2a6-a1f3-4514-d1af-f0fa3564ed89"
      },
      "outputs": [
        {
          "output_type": "stream",
          "name": "stderr",
          "text": [
            "/usr/local/lib/python3.7/dist-packages/seaborn/_decorators.py:43: FutureWarning: Pass the following variable as a keyword arg: x. From version 0.12, the only valid positional argument will be `data`, and passing other arguments without an explicit keyword will result in an error or misinterpretation.\n",
            "  FutureWarning\n"
          ]
        },
        {
          "output_type": "execute_result",
          "data": {
            "text/plain": [
              "<matplotlib.axes._subplots.AxesSubplot at 0x7fce78d1f0d0>"
            ]
          },
          "metadata": {},
          "execution_count": 8
        },
        {
          "output_type": "display_data",
          "data": {
            "image/png": "[encoded data removed]",
            "text/plain": [
              "<Figure size 432x288 with 1 Axes>"
            ]
          },
          "metadata": {
            "needs_background": "light"
          }
        }
      ],
      "source": [
        "train['label'].value_counts()\n",
        "sns.countplot('label', data=train) "
      ]
    },
    {
      "cell_type": "code",
      "source": [
        "print(xtrain.max(numeric_only=True).max())\n",
        "print(xtrain.min(numeric_only=True).max())"
      ],
      "metadata": {
        "colab": {
          "base_uri": "https://localhost:8080/"
        },
        "id": "L4aHt5KxYZja",
        "outputId": "f1536a55-966a-4194-e2db-a5ad6b5a0835"
      },
      "execution_count": 9,
      "outputs": [
        {
          "output_type": "stream",
          "name": "stdout",
          "text": [
            "255\n",
            "0\n"
          ]
        }
      ]
    },
    {
      "cell_type": "code",
      "source": [
        "#Normalize Data\n",
        "xtrain = xtrain/255.0"
      ],
      "metadata": {
        "id": "MXeRsRsYZ1Qk"
      },
      "execution_count": 10,
      "outputs": []
    },
    {
      "cell_type": "code",
      "execution_count": 11,
      "metadata": {
        "id": "MIxv3SOeaWHJ"
      },
      "outputs": [],
      "source": [
        "from sklearn.model_selection import train_test_split\n",
        "x1_train, x1_test, y1_train, y1_test = train_test_split(xtrain, ytrain)"
      ]
    },
    {
      "cell_type": "code",
      "source": [
        "#verify train and test data are balanced data sets\n",
        "\n",
        "y1_train = pd.DataFrame(y1_train)\n",
        "y1_train.value_counts()\n",
        "\n",
        "y1_test = pd.DataFrame(y1_test)\n",
        "y1_test.value_counts()\n",
        "\n",
        "fig, (ax1, ax2) = plt.subplots(ncols=2, sharey=True)\n",
        "\n",
        "sns.countplot('label', data=y1_train, ax=ax1) \n",
        "sns.countplot('label', data=y1_test, ax=ax2)"
      ],
      "metadata": {
        "colab": {
          "base_uri": "https://localhost:8080/",
          "height": 391
        },
        "id": "0OPnUBaXJECf",
        "outputId": "ecb26b20-fb1b-4493-9ce7-7a0d68935886"
      },
      "execution_count": 12,
      "outputs": [
        {
          "output_type": "stream",
          "name": "stderr",
          "text": [
            "/usr/local/lib/python3.7/dist-packages/seaborn/_decorators.py:43: FutureWarning: Pass the following variable as a keyword arg: x. From version 0.12, the only valid positional argument will be `data`, and passing other arguments without an explicit keyword will result in an error or misinterpretation.\n",
            "  FutureWarning\n",
            "/usr/local/lib/python3.7/dist-packages/seaborn/_decorators.py:43: FutureWarning: Pass the following variable as a keyword arg: x. From version 0.12, the only valid positional argument will be `data`, and passing other arguments without an explicit keyword will result in an error or misinterpretation.\n",
            "  FutureWarning\n"
          ]
        },
        {
          "output_type": "execute_result",
          "data": {
            "text/plain": [
              "<matplotlib.axes._subplots.AxesSubplot at 0x7fce7814b590>"
            ]
          },
          "metadata": {},
          "execution_count": 12
        },
        {
          "output_type": "display_data",
          "data": {
            "image/png": "[encoded data removed]",
            "text/plain": [
              "<Figure size 432x288 with 2 Axes>"
            ]
          },
          "metadata": {
            "needs_background": "light"
          }
        }
      ]
    },
    {
      "cell_type": "markdown",
      "metadata": {
        "id": "2F4Mnq_bSpmC"
      },
      "source": [
        "# Objective 1: Random Forest\n",
        "## Fit a random forest classifier using the full set of explanatory variables and the model training set (csv)"
      ]
    },
    {
      "cell_type": "code",
      "execution_count": 13,
      "metadata": {
        "colab": {
          "base_uri": "https://localhost:8080/"
        },
        "id": "_n8oq36qSuW0",
        "outputId": "9d7d2543-7bbf-443a-d659-e5a9fcd6bf48"
      },
      "outputs": [
        {
          "output_type": "stream",
          "name": "stderr",
          "text": [
            "/usr/local/lib/python3.7/dist-packages/ipykernel_launcher.py:11: DataConversionWarning: A column-vector y was passed when a 1d array was expected. Please change the shape of y to (n_samples,), for example using ravel().\n",
            "  # This is added back by InteractiveShellApp.init_path()\n"
          ]
        },
        {
          "output_type": "stream",
          "name": "stdout",
          "text": [
            "Total Random Forest Run Time: 0:00:17.923783\n"
          ]
        }
      ],
      "source": [
        "#import classifer\n",
        "from sklearn.ensemble import RandomForestClassifier\n",
        "\n",
        "#start time\n",
        "rf_start=datetime.now()\n",
        "\n",
        "#instantiate the estimator\n",
        "rfc = RandomForestClassifier()\n",
        "\n",
        "#fit the model with the training data\n",
        "rfc.fit(x1_train, y1_train)\n",
        "\n",
        "#end time\n",
        "rf_end=datetime.now()\n",
        "#print total run time\n",
        "print(\"Total Random Forest Run Time:\", rf_end-rf_start)"
      ]
    },
    {
      "cell_type": "code",
      "source": [
        "#Evaluate Initial Model\n",
        "\n",
        "def confusion_matrix(model, x, y, title):\n",
        "  y_pred=model.predict(x)\n",
        "  cnf_matrix = metrics.confusion_matrix(y, y_pred)\n",
        "  class_names=[0,1] # name  of classes\n",
        "  fig, ax = plt.subplots()\n",
        "  tick_marks = np.arange(len(class_names))\n",
        "  plt.xticks(tick_marks, class_names)\n",
        "  plt.yticks(tick_marks, class_names)\n",
        "  sns.heatmap(pd.DataFrame(cnf_matrix), annot=True, cmap=\"YlGnBu\" ,fmt='g')\n",
        "  ax.xaxis.set_label_position(\"top\")\n",
        "  plt.tight_layout()\n",
        "  plt.title(title, y=1.1)\n",
        "  plt.ylabel('Actual label')\n",
        "  plt.xlabel('Predicted label')\n",
        "\n",
        "def model_metrics(model, xtest, ytest):\n",
        "  y_pred = model.predict(xtest)\n",
        "  cnf_matrix = metrics.confusion_matrix(ytest, y_pred)\n",
        "  print(model)\n",
        "  print(\"Accuracy:\",metrics.accuracy_score(ytest, y_pred))\n",
        "  print(\"  Compare with Null Accuracy:\", ytest.value_counts().head(1) / len(ytest))\n",
        "\n",
        "model_metrics(rfc, x1_test, y1_test)"
      ],
      "metadata": {
        "colab": {
          "base_uri": "https://localhost:8080/"
        },
        "id": "TQ62elPLSQbX",
        "outputId": "68521997-d3da-4871-9029-5cee6273683a"
      },
      "execution_count": 14,
      "outputs": [
        {
          "output_type": "stream",
          "name": "stdout",
          "text": [
            "RandomForestClassifier()\n",
            "Accuracy: 0.9635238095238096\n",
            "  Compare with Null Accuracy: label\n",
            "1        0.115714\n",
            "dtype: float64\n"
          ]
        }
      ]
    },
    {
      "cell_type": "code",
      "source": [
        "confusion_matrix(rfc, x1_test, y1_test, 'Random Forest Classifier')"
      ],
      "metadata": {
        "colab": {
          "base_uri": "https://localhost:8080/",
          "height": 324
        },
        "id": "7ee1AYCaST08",
        "outputId": "059ea1d5-ba07-4317-bd12-a20a33c90f2b"
      },
      "execution_count": 36,
      "outputs": [
        {
          "output_type": "display_data",
          "data": {
            "image/png": "[encoded data removed]",
            "text/plain": [
              "<Figure size 432x288 with 2 Axes>"
            ]
          },
          "metadata": {
            "needs_background": "light"
          }
        }
      ]
    },
    {
      "cell_type": "code",
      "execution_count": 37,
      "metadata": {
        "id": "cU3LnFZLYuE2"
      },
      "outputs": [],
      "source": [
        "from sklearn.model_selection import RandomizedSearchCV\n",
        "\n",
        "#specify hyperparameter distributions\n",
        "nest_range = list(range(25, 100, 10))\n",
        "max_features_range = list(range(1,200, 25))\n",
        "max_depth_range = list(range(1, 25, 5))\n",
        "splitting_criteria_range = ['gini', 'entropy']\n",
        "\n",
        "param_dist = dict(n_estimators=nest_range, max_features=max_features_range, max_depth=max_depth_range, criterion=splitting_criteria_range)\n",
        "\n",
        "#Randomized Hyperparameter Search\n",
        "rand = RandomizedSearchCV(rfc, param_dist, cv=10, scoring='accuracy', n_iter=10)\n",
        "rand.fit(x1_train, y1_train)"
      ]
    },
    {
      "cell_type": "code",
      "execution_count": 38,
      "metadata": {
        "id": "QpcWRF0UbRg9"
      },
      "outputs": [],
      "source": [
        "# examine the best model\n",
        "print(rand.best_score_)\n",
        "print(rand.best_params_)"
      ]
    },
    {
      "cell_type": "code",
      "execution_count": 183,
      "metadata": {
        "id": "xAriDsJHbZaG",
        "colab": {
          "base_uri": "https://localhost:8080/"
        },
        "outputId": "1f6c4182-e447-4116-9988-f4cb5957f94b"
      },
      "outputs": [
        {
          "output_type": "stream",
          "name": "stderr",
          "text": [
            "/usr/local/lib/python3.7/dist-packages/ipykernel_launcher.py:3: DataConversionWarning: A column-vector y was passed when a 1d array was expected. Please change the shape of y to (n_samples,), for example using ravel().\n",
            "  This is separate from the ipykernel package so we can avoid doing imports until\n"
          ]
        },
        {
          "output_type": "execute_result",
          "data": {
            "text/plain": [
              "RandomForestClassifier(criterion='entropy', max_depth=16, max_features=76,\n",
              "                       n_estimators=85)"
            ]
          },
          "metadata": {},
          "execution_count": 183
        }
      ],
      "source": [
        "# run the best model\n",
        "bestrfc = RandomForestClassifier(n_estimators=85, max_features=76, max_depth=16, criterion='entropy')\n",
        "bestrfc.fit(x1_train, y1_train)"
      ]
    },
    {
      "cell_type": "code",
      "source": [
        "model_metrics(bestrfc, x1_test, y1_test)"
      ],
      "metadata": {
        "colab": {
          "base_uri": "https://localhost:8080/"
        },
        "id": "ZAEwD7PyUo5s",
        "outputId": "0ebb9f25-e311-487f-f5dd-447701cb90c1"
      },
      "execution_count": 40,
      "outputs": [
        {
          "output_type": "stream",
          "name": "stdout",
          "text": [
            "RandomForestClassifier(criterion='entropy', max_depth=16, max_features=76,\n",
            "                       n_estimators=85)\n",
            "Accuracy: 0.9616190476190476\n",
            "  Compare with Null Accuracy: label\n",
            "1        0.112286\n",
            "dtype: float64\n"
          ]
        }
      ]
    },
    {
      "cell_type": "code",
      "source": [
        "#Evaluate bestRFC model\n",
        "confusion_matrix(bestrfc, x1_test, y1_test, 'Random Forest Classifier')"
      ],
      "metadata": {
        "colab": {
          "base_uri": "https://localhost:8080/",
          "height": 324
        },
        "id": "E-QmkKXDUc0Z",
        "outputId": "ac776354-2d5f-436c-f23e-fe886922332e"
      },
      "execution_count": 41,
      "outputs": [
        {
          "output_type": "display_data",
          "data": {
            "image/png": "[encoded data removed]",
            "text/plain": [
              "<Figure size 432x288 with 2 Axes>"
            ]
          },
          "metadata": {
            "needs_background": "light"
          }
        }
      ]
    },
    {
      "cell_type": "code",
      "execution_count": 184,
      "metadata": {
        "id": "D_zkP8izcFHV"
      },
      "outputs": [],
      "source": [
        "#output and format best model predictions for Kaggle\n",
        "test_predictions = bestrfc.predict(xtest)\n",
        "predict_rfc = pd.DataFrame(test_predictions)\n",
        "predict_rfc.index.rename('ImageID', inplace=True)\n",
        "predict_rfc.columns =['Label']\n",
        "predict_rfc.index += 1"
      ]
    },
    {
      "cell_type": "code",
      "source": [
        "from google.colab import drive\n",
        "drive.mount('/drive')\n",
        "predict_rfc.to_csv('/drive/My Drive/GaertnerRFC_MNISTprediction.csv')"
      ],
      "metadata": {
        "colab": {
          "base_uri": "https://localhost:8080/"
        },
        "id": "TEPNk9ctJSdM",
        "outputId": "7b9bd3a3-afb3-4cd8-9a28-e03af9759b4c"
      },
      "execution_count": 185,
      "outputs": [
        {
          "output_type": "stream",
          "name": "stdout",
          "text": [
            "Drive already mounted at /drive; to attempt to forcibly remount, call drive.mount(\"/drive\", force_remount=True).\n"
          ]
        }
      ]
    },
    {
      "cell_type": "markdown",
      "source": [
        "# Objective 2: Principal Component Analysis (PCA)\n",
        "## Execute principal components analysis (PCA) on the combined training and test set data together, generating principal components that represent 95 percent of the variability in the explanatory variables."
      ],
      "metadata": {
        "id": "hSnuT6RGz0s9"
      }
    },
    {
      "cell_type": "code",
      "source": [
        "from sklearn.decomposition import PCA\n",
        "\n",
        "#start time\n",
        "pca_start=datetime.now()\n",
        "\n",
        "#pca analysis\n",
        "pca = PCA(0.95)\n",
        "pca.fit(x1_train)\n",
        "\n",
        "#end time\n",
        "pca_end=datetime.now()\n",
        "#print total run time\n",
        "print(\"Total Principal Component Run Time:\", pca_end-pca_start)\n",
        "print(\"Total Principal Components:\", pca.n_components_)"
      ],
      "metadata": {
        "colab": {
          "base_uri": "https://localhost:8080/"
        },
        "id": "IMogWT9Y0B7r",
        "outputId": "8b828331-d087-4647-f67b-75ecaa31c8b2"
      },
      "execution_count": 15,
      "outputs": [
        {
          "output_type": "stream",
          "name": "stdout",
          "text": [
            "Total Principal Component Run Time: 0:00:05.076477\n",
            "Total Principal Components: 153\n"
          ]
        }
      ]
    },
    {
      "cell_type": "code",
      "source": [
        "pca_train = pca.transform(x1_train)\n",
        "pca_test = pca.transform(x1_test)"
      ],
      "metadata": {
        "id": "plJfhGXM0GtG"
      },
      "execution_count": 16,
      "outputs": []
    },
    {
      "cell_type": "markdown",
      "source": [
        "# Objective 3: Random Forest Classifier with PCA\n",
        "##Using the identified principal components from step (2), use thecsvto build another random forest classifier."
      ],
      "metadata": {
        "id": "SybdMc480dXP"
      }
    },
    {
      "cell_type": "code",
      "source": [
        "#Run Random Forest Classifier on PCA-reduced data set\n",
        "rfpca_start=datetime.now()\n",
        "\n",
        "#fit the model with the training data\n",
        "rfc.fit(pca_train, y1_train)\n",
        "\n",
        "#end time\n",
        "rfpca_end=datetime.now()\n",
        "#print total run time\n",
        "print(\"Total Random Forest with PCA-reduction Run Time:\", rfpca_end-rfpca_start)"
      ],
      "metadata": {
        "colab": {
          "base_uri": "https://localhost:8080/"
        },
        "id": "HMp6lONR3v9Q",
        "outputId": "e74ee5d1-fe62-46b9-9d67-5c295bd6a7a6"
      },
      "execution_count": 17,
      "outputs": [
        {
          "output_type": "stream",
          "name": "stderr",
          "text": [
            "/usr/local/lib/python3.7/dist-packages/ipykernel_launcher.py:5: DataConversionWarning: A column-vector y was passed when a 1d array was expected. Please change the shape of y to (n_samples,), for example using ravel().\n",
            "  \"\"\"\n"
          ]
        },
        {
          "output_type": "stream",
          "name": "stdout",
          "text": [
            "Total Random Forest with PCA-reduction Run Time: 0:00:43.216222\n"
          ]
        }
      ]
    },
    {
      "cell_type": "code",
      "source": [
        "#Evaluate Random Forest PCA-reduced model\n",
        "model_metrics(rfc, pca_test, y1_test)"
      ],
      "metadata": {
        "colab": {
          "base_uri": "https://localhost:8080/"
        },
        "id": "kIZUzNjoVEno",
        "outputId": "3033456b-05b5-483a-aaaf-b3171ad8ac1f"
      },
      "execution_count": 18,
      "outputs": [
        {
          "output_type": "stream",
          "name": "stdout",
          "text": [
            "RandomForestClassifier()\n",
            "Accuracy: 0.9380952380952381\n",
            "  Compare with Null Accuracy: label\n",
            "1        0.115714\n",
            "dtype: float64\n"
          ]
        }
      ]
    },
    {
      "cell_type": "code",
      "source": [
        "confusion_matrix(rfc, pca_test, y1_test, 'Random Forest Classifier with PCA Reduction')"
      ],
      "metadata": {
        "colab": {
          "base_uri": "https://localhost:8080/",
          "height": 324
        },
        "id": "gQ0Nbm02VEbf",
        "outputId": "26a87ecd-09f9-4648-edeb-675958ab045d"
      },
      "execution_count": 19,
      "outputs": [
        {
          "output_type": "display_data",
          "data": {
            "image/png": "[encoded data removed]",
            "text/plain": [
              "<Figure size 432x288 with 2 Axes>"
            ]
          },
          "metadata": {
            "needs_background": "light"
          }
        }
      ]
    },
    {
      "cell_type": "code",
      "source": [
        "#output and format best model predictions for Kaggle\n",
        "pca_kaggletest = pca.transform(xtest)\n",
        "test_predictions = rfc.predict(pca_kaggletest)\n",
        "predict_rfc = pd.DataFrame(test_predictions)\n",
        "predict_rfc.index.rename('ImageID', inplace=True)\n",
        "predict_rfc.columns =['Label']\n",
        "predict_rfc.index += 1"
      ],
      "metadata": {
        "id": "efj-X5xJ5oLX"
      },
      "execution_count": 186,
      "outputs": []
    },
    {
      "cell_type": "code",
      "source": [
        "predict_rfc.to_csv('/drive/My Drive/GaertnerRFCPCA_MNISTprediction.csv')"
      ],
      "metadata": {
        "id": "kZ8hiXGn6Ktv"
      },
      "execution_count": 187,
      "outputs": []
    },
    {
      "cell_type": "markdown",
      "source": [
        "# Objective 4: K-means Clustering\n",
        "##Use k-means clustering to group MNIST observations into 1 of 10 categories and then assign labels."
      ],
      "metadata": {
        "id": "EbUET0Ca0vfR"
      }
    },
    {
      "cell_type": "code",
      "source": [
        "from sklearn.cluster import MiniBatchKMeans\n",
        "from sklearn.metrics import accuracy_score\n",
        "\n",
        "#Initialize K-means model\n",
        "#k = len(np.unique(ytrain))\n",
        "k=150\n",
        "kmeans = MiniBatchKMeans(n_clusters = k)\n",
        "\n",
        "#fit the model\n",
        "kmeans.fit(xtrain)\n",
        "\n",
        "#return labels\n",
        "print(kmeans.labels_)"
      ],
      "metadata": {
        "id": "ZokCmtE73QAo",
        "colab": {
          "base_uri": "https://localhost:8080/"
        },
        "outputId": "a2678444-fc2e-42ee-9df7-4ea2c187ff8f"
      },
      "execution_count": 152,
      "outputs": [
        {
          "output_type": "stream",
          "name": "stdout",
          "text": [
            "[ 92 149  66 ...  89 127  59]\n"
          ]
        }
      ]
    },
    {
      "cell_type": "code",
      "source": [
        "labels = pd.DataFrame(ytrain)\n",
        "labels['cluster'] = kmeans.labels_\n",
        "labelkey = labels.groupby('cluster', as_index=False).agg({'label': lambda x: x.mode()})\n",
        "labelkey = labelkey.rename(columns={'label':'predicted_label'})\n",
        "\n",
        "labels2 = labels.merge(labelkey, on='cluster', how='left', sort=False)\n",
        "labels2.head()"
      ],
      "metadata": {
        "colab": {
          "base_uri": "https://localhost:8080/",
          "height": 206
        },
        "id": "d1wTztDbGfU2",
        "outputId": "65baa820-9ccb-4657-b063-4b0783cebc05"
      },
      "execution_count": 156,
      "outputs": [
        {
          "output_type": "execute_result",
          "data": {
            "text/html": [
              "\n",
              "  <div id=\"df-26886c96-42bd-4c33-8a3d-a6fb2ec6db4d\">\n",
              "    <div class=\"colab-df-container\">\n",
              "      <div>\n",
              "<style scoped>\n",
              "    .dataframe tbody tr th:only-of-type {\n",
              "        vertical-align: middle;\n",
              "    }\n",
              "\n",
              "    .dataframe tbody tr th {\n",
              "        vertical-align: top;\n",
              "    }\n",
              "\n",
              "    .dataframe thead th {\n",
              "        text-align: right;\n",
              "    }\n",
              "</style>\n",
              "<table border=\"1\" class=\"dataframe\">\n",
              "  <thead>\n",
              "    <tr style=\"text-align: right;\">\n",
              "      <th></th>\n",
              "      <th>label</th>\n",
              "      <th>cluster</th>\n",
              "      <th>predicted_label</th>\n",
              "    </tr>\n",
              "  </thead>\n",
              "  <tbody>\n",
              "    <tr>\n",
              "      <th>0</th>\n",
              "      <td>1</td>\n",
              "      <td>92</td>\n",
              "      <td>1</td>\n",
              "    </tr>\n",
              "    <tr>\n",
              "      <th>1</th>\n",
              "      <td>0</td>\n",
              "      <td>149</td>\n",
              "      <td>0</td>\n",
              "    </tr>\n",
              "    <tr>\n",
              "      <th>2</th>\n",
              "      <td>1</td>\n",
              "      <td>66</td>\n",
              "      <td>1</td>\n",
              "    </tr>\n",
              "    <tr>\n",
              "      <th>3</th>\n",
              "      <td>4</td>\n",
              "      <td>100</td>\n",
              "      <td>2</td>\n",
              "    </tr>\n",
              "    <tr>\n",
              "      <th>4</th>\n",
              "      <td>0</td>\n",
              "      <td>149</td>\n",
              "      <td>0</td>\n",
              "    </tr>\n",
              "  </tbody>\n",
              "</table>\n",
              "</div>\n",
              "      <button class=\"colab-df-convert\" onclick=\"convertToInteractive('df-26886c96-42bd-4c33-8a3d-a6fb2ec6db4d')\"\n",
              "              title=\"Convert this dataframe to an interactive table.\"\n",
              "              style=\"display:none;\">\n",
              "        \n",
              "  <svg xmlns=\"http://www.w3.org/2000/svg\" height=\"24px\"viewBox=\"0 0 24 24\"\n",
              "       width=\"24px\">\n",
              "    <path d=\"M0 0h24v24H0V0z\" fill=\"none\"/>\n",
              "    <path d=\"M18.56 5.44l.94 2.06.94-2.06 2.06-.94-2.06-.94-.94-2.06-.94 2.06-2.06.94zm-11 1L8.5 8.5l.94-2.06 2.06-.94-2.06-.94L8.5 2.5l-.94 2.06-2.06.94zm10 10l.94 2.06.94-2.06 2.06-.94-2.06-.94-.94-2.06-.94 2.06-2.06.94z\"/><path d=\"M17.41 7.96l-1.37-1.37c-.4-.4-.92-.59-1.43-.59-.52 0-1.04.2-1.43.59L10.3 9.45l-7.72 7.72c-.78.78-.78 2.05 0 2.83L4 21.41c.39.39.9.59 1.41.59.51 0 1.02-.2 1.41-.59l7.78-7.78 2.81-2.81c.8-.78.8-2.07 0-2.86zM5.41 20L4 18.59l7.72-7.72 1.47 1.35L5.41 20z\"/>\n",
              "  </svg>\n",
              "      </button>\n",
              "      \n",
              "  <style>\n",
              "    .colab-df-container {\n",
              "      display:flex;\n",
              "      flex-wrap:wrap;\n",
              "      gap: 12px;\n",
              "    }\n",
              "\n",
              "    .colab-df-convert {\n",
              "      background-color: #E8F0FE;\n",
              "      border: none;\n",
              "      border-radius: 50%;\n",
              "      cursor: pointer;\n",
              "      display: none;\n",
              "      fill: #1967D2;\n",
              "      height: 32px;\n",
              "      padding: 0 0 0 0;\n",
              "      width: 32px;\n",
              "    }\n",
              "\n",
              "    .colab-df-convert:hover {\n",
              "      background-color: #E2EBFA;\n",
              "      box-shadow: 0px 1px 2px rgba(60, 64, 67, 0.3), 0px 1px 3px 1px rgba(60, 64, 67, 0.15);\n",
              "      fill: #174EA6;\n",
              "    }\n",
              "\n",
              "    [theme=dark] .colab-df-convert {\n",
              "      background-color: #3B4455;\n",
              "      fill: #D2E3FC;\n",
              "    }\n",
              "\n",
              "    [theme=dark] .colab-df-convert:hover {\n",
              "      background-color: #434B5C;\n",
              "      box-shadow: 0px 1px 3px 1px rgba(0, 0, 0, 0.15);\n",
              "      filter: drop-shadow(0px 1px 2px rgba(0, 0, 0, 0.3));\n",
              "      fill: #FFFFFF;\n",
              "    }\n",
              "  </style>\n",
              "\n",
              "      <script>\n",
              "        const buttonEl =\n",
              "          document.querySelector('#df-26886c96-42bd-4c33-8a3d-a6fb2ec6db4d button.colab-df-convert');\n",
              "        buttonEl.style.display =\n",
              "          google.colab.kernel.accessAllowed ? 'block' : 'none';\n",
              "\n",
              "        async function convertToInteractive(key) {\n",
              "          const element = document.querySelector('#df-26886c96-42bd-4c33-8a3d-a6fb2ec6db4d');\n",
              "          const dataTable =\n",
              "            await google.colab.kernel.invokeFunction('convertToInteractive',\n",
              "                                                     [key], {});\n",
              "          if (!dataTable) return;\n",
              "\n",
              "          const docLinkHtml = 'Like what you see? Visit the ' +\n",
              "            '<a target=\"_blank\" href=https://colab.research.google.com/notebooks/data_table.ipynb>data table notebook</a>'\n",
              "            + ' to learn more about interactive tables.';\n",
              "          element.innerHTML = '';\n",
              "          dataTable['output_type'] = 'display_data';\n",
              "          await google.colab.output.renderOutput(dataTable, element);\n",
              "          const docLink = document.createElement('div');\n",
              "          docLink.innerHTML = docLinkHtml;\n",
              "          element.appendChild(docLink);\n",
              "        }\n",
              "      </script>\n",
              "    </div>\n",
              "  </div>\n",
              "  "
            ],
            "text/plain": [
              "   label  cluster  predicted_label\n",
              "0      1       92                1\n",
              "1      0      149                0\n",
              "2      1       66                1\n",
              "3      4      100                2\n",
              "4      0      149                0"
            ]
          },
          "metadata": {},
          "execution_count": 156
        }
      ]
    },
    {
      "cell_type": "code",
      "source": [
        "print(\"Accuracy: \", accuracy_score(labels2['predicted_label'], labels2['label']))\n",
        "print(\"Inertia: \", kmeans.inertia_)"
      ],
      "metadata": {
        "colab": {
          "base_uri": "https://localhost:8080/"
        },
        "id": "2qS6yKWNdujV",
        "outputId": "6caa7e02-186b-4f41-aef7-d21733689f55"
      },
      "execution_count": 157,
      "outputs": [
        {
          "output_type": "stream",
          "name": "stdout",
          "text": [
            "Accuracy:  0.8784285714285714\n",
            "Inertia:  1129000.7099797847\n"
          ]
        }
      ]
    },
    {
      "cell_type": "code",
      "source": [
        "#output and format best model predictions for Kaggle\n",
        "\n",
        "#fit to test data\n",
        "#kmeans.fit(xtest)\n",
        "\n",
        "#create prediction\n",
        "predictlabels = pd.DataFrame(kmeans.labels_)\n",
        "predictlabels = predictlabels.rename(columns={0:'cluster'})\n",
        "\n",
        "predict_kmeans = predictlabels.merge(labelkey, on='cluster', how='left', sort=False)\n",
        "predict_kmeans.index.rename('ImageID', inplace=True)\n",
        "predict_kmeansfinal = predict_kmeans.drop ('cluster', axis=1)\n",
        "predict_kmeansfinal.columns =['Label']\n",
        "predict_kmeansfinal.index += 1"
      ],
      "metadata": {
        "id": "IFfaoRPLUVSa"
      },
      "execution_count": 188,
      "outputs": []
    },
    {
      "cell_type": "code",
      "source": [
        "predict_kmeansfinal.to_csv('/drive/My Drive/GaertnerKMEANS_MNISTprediction.csv')"
      ],
      "metadata": {
        "id": "kUzspD5LaYaF"
      },
      "execution_count": 189,
      "outputs": []
    },
    {
      "cell_type": "markdown",
      "source": [
        ""
      ],
      "metadata": {
        "id": "15OLLhlLYBzh"
      }
    }
  ],
  "metadata": {
    "colab": {
      "name": "DigitRecognizerFinal.ipynb",
      "toc_visible": true,
      "provenance": [],
      "collapsed_sections": [],
      "authorship_tag": "ABX9TyM21Cy6CPHWn7w9SEHFyNaY",
      "include_colab_link": true
    },
    "kernelspec": {
      "display_name": "Python 3",
      "name": "python3"
    },
    "language_info": {
      "name": "python"
    },
    "accelerator": "GPU"
  },
  "nbformat": 4,
  "nbformat_minor": 0
}